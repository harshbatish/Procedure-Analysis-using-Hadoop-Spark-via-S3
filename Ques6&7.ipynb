{
 "cells": [
  {
   "cell_type": "markdown",
   "id": "15611280",
   "metadata": {},
   "source": [
    "## Harsh Sharma"
   ]
  },
  {
   "cell_type": "markdown",
   "id": "b5acf5d6",
   "metadata": {},
   "source": [
    "### Question 6 and 7 of BigData Deliverable"
   ]
  },
  {
   "cell_type": "markdown",
   "id": "de2db9c8",
   "metadata": {},
   "source": [
    "---"
   ]
  },
  {
   "cell_type": "code",
   "execution_count": 4,
   "id": "8dac8f80",
   "metadata": {},
   "outputs": [
    {
     "name": "stdout",
     "output_type": "stream",
     "text": [
      "Collecting boto3\n",
      "  Downloading boto3-1.26.22-py3-none-any.whl (132 kB)\n",
      "     ------------------------------------ 132.6/132.6 kB 784.5 kB/s eta 0:00:00\n",
      "Collecting jmespath<2.0.0,>=0.7.1\n",
      "  Using cached jmespath-1.0.1-py3-none-any.whl (20 kB)\n",
      "Collecting botocore<1.30.0,>=1.29.22\n",
      "  Downloading botocore-1.29.22-py3-none-any.whl (10.2 MB)\n",
      "     ---------------------------------------- 10.2/10.2 MB 3.7 MB/s eta 0:00:00\n",
      "Collecting s3transfer<0.7.0,>=0.6.0\n",
      "  Downloading s3transfer-0.6.0-py3-none-any.whl (79 kB)\n",
      "     -------------------------------------- 79.6/79.6 kB 636.0 kB/s eta 0:00:00\n",
      "Requirement already satisfied: urllib3<1.27,>=1.25.4 in c:\\users\\user\\anaconda3\\envs\\bigdata_ml\\lib\\site-packages (from botocore<1.30.0,>=1.29.22->boto3) (1.26.12)\n",
      "Requirement already satisfied: python-dateutil<3.0.0,>=2.1 in c:\\users\\user\\anaconda3\\envs\\bigdata_ml\\lib\\site-packages (from botocore<1.30.0,>=1.29.22->boto3) (2.8.2)\n",
      "Requirement already satisfied: six>=1.5 in c:\\users\\user\\anaconda3\\envs\\bigdata_ml\\lib\\site-packages (from python-dateutil<3.0.0,>=2.1->botocore<1.30.0,>=1.29.22->boto3) (1.16.0)\n",
      "Installing collected packages: jmespath, botocore, s3transfer, boto3\n",
      "Successfully installed boto3-1.26.22 botocore-1.29.22 jmespath-1.0.1 s3transfer-0.6.0\n",
      "Note: you may need to restart the kernel to use updated packages.\n"
     ]
    }
   ],
   "source": [
    "# installed boto3\n",
    "pip install boto3"
   ]
  },
  {
   "cell_type": "markdown",
   "id": "d0704e2f",
   "metadata": {},
   "source": [
    "Now let's load the `merged.csv` sitting in our S3 bucket `forbigdata3` as below."
   ]
  },
  {
   "cell_type": "code",
   "execution_count": 7,
   "id": "d738532b",
   "metadata": {},
   "outputs": [],
   "source": [
    "import pandas as pd\n",
    "import boto3\n",
    "\n",
    "bucket = \"forbigdata3\"\n",
    "file_name = \"mergedfile.csv\"\n",
    "\n",
    "s3 = boto3.client('s3') \n",
    "# 's3' is a key word. create connection to S3 using default config and all buckets within S3\n",
    "\n",
    "obj = s3.get_object(Bucket= bucket, Key= file_name) \n",
    "# get object and file (key) from bucket\n",
    "\n",
    "merged_df = pd.read_csv(obj['Body']) # 'Body' is a key word"
   ]
  },
  {
   "cell_type": "code",
   "execution_count": 9,
   "id": "19b52a74",
   "metadata": {},
   "outputs": [
    {
     "data": {
      "text/html": [
       "<div>\n",
       "<style scoped>\n",
       "    .dataframe tbody tr th:only-of-type {\n",
       "        vertical-align: middle;\n",
       "    }\n",
       "\n",
       "    .dataframe tbody tr th {\n",
       "        vertical-align: top;\n",
       "    }\n",
       "\n",
       "    .dataframe thead th {\n",
       "        text-align: right;\n",
       "    }\n",
       "</style>\n",
       "<table border=\"1\" class=\"dataframe\">\n",
       "  <thead>\n",
       "    <tr style=\"text-align: right;\">\n",
       "      <th></th>\n",
       "      <th>token</th>\n",
       "      <th>year</th>\n",
       "      <th>frequency</th>\n",
       "      <th>pages</th>\n",
       "      <th>books</th>\n",
       "    </tr>\n",
       "  </thead>\n",
       "  <tbody>\n",
       "    <tr>\n",
       "      <th>0</th>\n",
       "      <td>token</td>\n",
       "      <td>year</td>\n",
       "      <td>frequency</td>\n",
       "      <td>pages</td>\n",
       "      <td>books</td>\n",
       "    </tr>\n",
       "    <tr>\n",
       "      <th>1</th>\n",
       "      <td>data</td>\n",
       "      <td>1584</td>\n",
       "      <td>16</td>\n",
       "      <td>14</td>\n",
       "      <td>1</td>\n",
       "    </tr>\n",
       "    <tr>\n",
       "      <th>2</th>\n",
       "      <td>data</td>\n",
       "      <td>1614</td>\n",
       "      <td>3</td>\n",
       "      <td>2</td>\n",
       "      <td>1</td>\n",
       "    </tr>\n",
       "    <tr>\n",
       "      <th>3</th>\n",
       "      <td>data</td>\n",
       "      <td>1627</td>\n",
       "      <td>1</td>\n",
       "      <td>1</td>\n",
       "      <td>1</td>\n",
       "    </tr>\n",
       "    <tr>\n",
       "      <th>4</th>\n",
       "      <td>data</td>\n",
       "      <td>1631</td>\n",
       "      <td>22</td>\n",
       "      <td>18</td>\n",
       "      <td>1</td>\n",
       "    </tr>\n",
       "  </tbody>\n",
       "</table>\n",
       "</div>"
      ],
      "text/plain": [
       "   token  year  frequency  pages  books\n",
       "0  token  year  frequency  pages  books\n",
       "1   data  1584         16     14      1\n",
       "2   data  1614          3      2      1\n",
       "3   data  1627          1      1      1\n",
       "4   data  1631         22     18      1"
      ]
     },
     "execution_count": 9,
     "metadata": {},
     "output_type": "execute_result"
    }
   ],
   "source": [
    "# let's peek into the dataset\n",
    "\n",
    "merged_df.head()"
   ]
  },
  {
   "cell_type": "code",
   "execution_count": 12,
   "id": "7cdd148c",
   "metadata": {},
   "outputs": [
    {
     "data": {
      "text/plain": [
       "(317, 5)"
      ]
     },
     "execution_count": 12,
     "metadata": {},
     "output_type": "execute_result"
    }
   ],
   "source": [
    "# checking shape\n",
    "merged_df.shape"
   ]
  },
  {
   "cell_type": "markdown",
   "id": "9dba519e",
   "metadata": {},
   "source": [
    "As we already and can be seen from above that there is an extra row which is the first one and was created and was added while merging the 2 csv files. \n",
    "\n",
    "\n",
    "So let's delete that and choose the rest."
   ]
  },
  {
   "cell_type": "code",
   "execution_count": 13,
   "id": "0ecd2e11",
   "metadata": {},
   "outputs": [
    {
     "data": {
      "text/html": [
       "<div>\n",
       "<style scoped>\n",
       "    .dataframe tbody tr th:only-of-type {\n",
       "        vertical-align: middle;\n",
       "    }\n",
       "\n",
       "    .dataframe tbody tr th {\n",
       "        vertical-align: top;\n",
       "    }\n",
       "\n",
       "    .dataframe thead th {\n",
       "        text-align: right;\n",
       "    }\n",
       "</style>\n",
       "<table border=\"1\" class=\"dataframe\">\n",
       "  <thead>\n",
       "    <tr style=\"text-align: right;\">\n",
       "      <th></th>\n",
       "      <th>token</th>\n",
       "      <th>year</th>\n",
       "      <th>frequency</th>\n",
       "      <th>pages</th>\n",
       "      <th>books</th>\n",
       "    </tr>\n",
       "  </thead>\n",
       "  <tbody>\n",
       "    <tr>\n",
       "      <th>1</th>\n",
       "      <td>data</td>\n",
       "      <td>1584</td>\n",
       "      <td>16</td>\n",
       "      <td>14</td>\n",
       "      <td>1</td>\n",
       "    </tr>\n",
       "    <tr>\n",
       "      <th>2</th>\n",
       "      <td>data</td>\n",
       "      <td>1614</td>\n",
       "      <td>3</td>\n",
       "      <td>2</td>\n",
       "      <td>1</td>\n",
       "    </tr>\n",
       "    <tr>\n",
       "      <th>3</th>\n",
       "      <td>data</td>\n",
       "      <td>1627</td>\n",
       "      <td>1</td>\n",
       "      <td>1</td>\n",
       "      <td>1</td>\n",
       "    </tr>\n",
       "    <tr>\n",
       "      <th>4</th>\n",
       "      <td>data</td>\n",
       "      <td>1631</td>\n",
       "      <td>22</td>\n",
       "      <td>18</td>\n",
       "      <td>1</td>\n",
       "    </tr>\n",
       "    <tr>\n",
       "      <th>5</th>\n",
       "      <td>data</td>\n",
       "      <td>1637</td>\n",
       "      <td>1</td>\n",
       "      <td>1</td>\n",
       "      <td>1</td>\n",
       "    </tr>\n",
       "  </tbody>\n",
       "</table>\n",
       "</div>"
      ],
      "text/plain": [
       "  token  year frequency pages books\n",
       "1  data  1584        16    14     1\n",
       "2  data  1614         3     2     1\n",
       "3  data  1627         1     1     1\n",
       "4  data  1631        22    18     1\n",
       "5  data  1637         1     1     1"
      ]
     },
     "execution_count": 13,
     "metadata": {},
     "output_type": "execute_result"
    }
   ],
   "source": [
    "# excluding the first row\n",
    "new_df = merged_df.iloc[1:, :]\n",
    "new_df.head()"
   ]
  },
  {
   "cell_type": "markdown",
   "id": "e9e89609",
   "metadata": {},
   "source": [
    "We already know that there are now null values in this dataset."
   ]
  },
  {
   "cell_type": "markdown",
   "id": "b84413d2",
   "metadata": {},
   "source": [
    "But let's check.../."
   ]
  },
  {
   "cell_type": "code",
   "execution_count": 16,
   "id": "433b0ae2",
   "metadata": {},
   "outputs": [
    {
     "data": {
      "text/plain": [
       "token        0\n",
       "year         0\n",
       "frequency    0\n",
       "pages        0\n",
       "books        0\n",
       "dtype: int64"
      ]
     },
     "execution_count": 16,
     "metadata": {},
     "output_type": "execute_result"
    }
   ],
   "source": [
    "# checking null values\n",
    "new_df.isna().sum()"
   ]
  },
  {
   "cell_type": "markdown",
   "id": "0e7d9fc8",
   "metadata": {},
   "source": [
    "---"
   ]
  },
  {
   "cell_type": "markdown",
   "id": "5ccec528",
   "metadata": {},
   "source": [
    "#### Question 7 Plot the number of occurrences of the token (the frequency column) of data over the years using matplotlib."
   ]
  },
  {
   "cell_type": "code",
   "execution_count": 23,
   "id": "c983b401",
   "metadata": {},
   "outputs": [
    {
     "data": {
      "text/plain": [
       "316"
      ]
     },
     "execution_count": 23,
     "metadata": {},
     "output_type": "execute_result"
    }
   ],
   "source": [
    "# checking unique number of year in the dataset\n",
    "len(pd.unique(new_df['year']))"
   ]
  },
  {
   "cell_type": "code",
   "execution_count": 24,
   "id": "fa9330ad",
   "metadata": {},
   "outputs": [
    {
     "data": {
      "text/plain": [
       "254"
      ]
     },
     "execution_count": 24,
     "metadata": {},
     "output_type": "execute_result"
    }
   ],
   "source": [
    "# checking unique number of frequency in the dataset\n",
    "len(pd.unique(new_df['frequency']))"
   ]
  },
  {
   "cell_type": "code",
   "execution_count": 30,
   "id": "06261a2c",
   "metadata": {},
   "outputs": [
    {
     "data": {
      "image/png": "[encoded data removed]",
      "text/plain": [
       "<Figure size 1000x500 with 1 Axes>"
      ]
     },
     "metadata": {},
     "output_type": "display_data"
    }
   ],
   "source": [
    "# importing libraries\n",
    "import numpy as np\n",
    "import matplotlib.pyplot as plt\n",
    " \n",
    "# setting figure size  \n",
    "fig = plt.figure(figsize = (10, 5))\n",
    " \n",
    "# creating the line plot\n",
    "plt.plot(new_df['year'], new_df['frequency'], color ='maroon')\n",
    "plt.xticks(range(1,316,20))\n",
    "plt.yticks(range(1,254,20))\n",
    "plt.xlabel(\"Years\")\n",
    "plt.ylabel(\"Number of Occurences\")\n",
    "plt.title(\"Relationship of frequency vs years\")\n",
    "plt.show()"
   ]
  },
  {
   "cell_type": "markdown",
   "id": "d3ce824a",
   "metadata": {},
   "source": [
    "This could have been improved if plotly could have been used instead of matplotlib.\n"
   ]
  },
  {
   "cell_type": "markdown",
   "id": "d9e43ace",
   "metadata": {},
   "source": [
    "#### Interpretations from the above graph.."
   ]
  },
  {
   "cell_type": "markdown",
   "id": "e997f61f",
   "metadata": {},
   "source": [
    "1. There is a zig-zag pattern between the year and frequency till late 1790s starting from 1614.\n",
    "2. After the starting of 18th century, the relationship becomes linear with a positive slope.\n",
    "3. Highest downfall of frequency was observed around 1780s."
   ]
  },
  {
   "cell_type": "markdown",
   "id": "a7698f9e",
   "metadata": {},
   "source": [
    "---"
   ]
  },
  {
   "cell_type": "markdown",
   "id": "cacb8e40",
   "metadata": {},
   "source": [
    "## Thank You!!"
   ]
  }
 ],
 "metadata": {
  "kernelspec": {
   "display_name": "Python 3 (ipykernel)",
   "language": "python",
   "name": "python3"
  },
  "language_info": {
   "codemirror_mode": {
    "name": "ipython",
    "version": 3
   },
   "file_extension": ".py",
   "mimetype": "text/x-python",
   "name": "python",
   "nbconvert_exporter": "python",
   "pygments_lexer": "ipython3",
   "version": "3.9.12"
  }
 },
 "nbformat": 4,
 "nbformat_minor": 5
}
