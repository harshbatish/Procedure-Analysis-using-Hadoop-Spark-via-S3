{
 "cells": [
  {
   "cell_type": "markdown",
   "id": "26068db0",
   "metadata": {},
   "source": [
    "# Harsh Sharma"
   ]
  },
  {
   "cell_type": "markdown",
   "id": "85f97dc3",
   "metadata": {},
   "source": [
    "## Big Data Deliverable (Dec 5, 2022)"
   ]
  },
  {
   "cell_type": "markdown",
   "id": "56d9a7b2",
   "metadata": {},
   "source": [
    "---"
   ]
  },
  {
   "cell_type": "markdown",
   "id": "23f0303d",
   "metadata": {},
   "source": [
    "Insatll spark and make sure you change the kernel to PySpark."
   ]
  },
  {
   "cell_type": "code",
   "execution_count": 1,
   "id": "b5a4cc33",
   "metadata": {},
   "outputs": [
    {
     "data": {
      "application/vnd.jupyter.widget-view+json": {
       "model_id": "0969ce1fe3e34e9fa094cd3868fb1ee0",
       "version_major": 2,
       "version_minor": 0
      },
      "text/plain": [
       "VBox()"
      ]
     },
     "metadata": {},
     "output_type": "display_data"
    },
    {
     "name": "stdout",
     "output_type": "stream",
     "text": [
      "Starting Spark application\n"
     ]
    },
    {
     "data": {
      "text/html": [
       "<table>\n",
       "<tr><th>ID</th><th>YARN Application ID</th><th>Kind</th><th>State</th><th>Spark UI</th><th>Driver log</th><th>Current session?</th></tr><tr><td>1</td><td>application_1670016207855_0004</td><td>pyspark</td><td>idle</td><td><a target=\"_blank\" href=\"http://ip-172-31-15-205.us-east-2.compute.internal:20888/proxy/application_1670016207855_0004/\">Link</a></td><td><a target=\"_blank\" href=\"http://ip-172-31-4-66.us-east-2.compute.internal:8042/node/containerlogs/container_1670016207855_0004_01_000001/livy\">Link</a></td><td>✔</td></tr></table>"
      ],
      "text/plain": [
       "<IPython.core.display.HTML object>"
      ]
     },
     "metadata": {},
     "output_type": "display_data"
    },
    {
     "data": {
      "application/vnd.jupyter.widget-view+json": {
       "model_id": "",
       "version_major": 2,
       "version_minor": 0
      },
      "text/plain": [
       "FloatProgress(value=0.0, bar_style='info', description='Progress:', layout=Layout(height='25px', width='50%'),…"
      ]
     },
     "metadata": {},
     "output_type": "display_data"
    },
    {
     "name": "stdout",
     "output_type": "stream",
     "text": [
      "SparkSession available as 'spark'.\n"
     ]
    },
    {
     "data": {
      "application/vnd.jupyter.widget-view+json": {
       "model_id": "",
       "version_major": 2,
       "version_minor": 0
      },
      "text/plain": [
       "FloatProgress(value=0.0, bar_style='info', description='Progress:', layout=Layout(height='25px', width='50%'),…"
      ]
     },
     "metadata": {},
     "output_type": "display_data"
    },
    {
     "name": "stdout",
     "output_type": "stream",
     "text": [
      "<pyspark.sql.session.SparkSession object at 0x7ff345dce550>"
     ]
    }
   ],
   "source": [
    "# import spark\n",
    "spark"
   ]
  },
  {
   "cell_type": "markdown",
   "id": "854f15ba",
   "metadata": {},
   "source": [
    "#### Load the dataset"
   ]
  },
  {
   "cell_type": "code",
   "execution_count": 2,
   "id": "396ccf8f",
   "metadata": {},
   "outputs": [
    {
     "data": {
      "application/vnd.jupyter.widget-view+json": {
       "model_id": "9264820ae46b442790edd0338ea0df59",
       "version_major": 2,
       "version_minor": 0
      },
      "text/plain": [
       "VBox()"
      ]
     },
     "metadata": {},
     "output_type": "display_data"
    },
    {
     "data": {
      "application/vnd.jupyter.widget-view+json": {
       "model_id": "",
       "version_major": 2,
       "version_minor": 0
      },
      "text/plain": [
       "FloatProgress(value=0.0, bar_style='info', description='Progress:', layout=Layout(height='25px', width='50%'),…"
      ]
     },
     "metadata": {},
     "output_type": "display_data"
    }
   ],
   "source": [
    "# Read in some data locally\n",
    "df = spark.read.csv('s3://brainstation-dsft/eng_1M_1gram.csv', header=True)"
   ]
  },
  {
   "cell_type": "code",
   "execution_count": 3,
   "id": "cd93decf",
   "metadata": {},
   "outputs": [
    {
     "data": {
      "application/vnd.jupyter.widget-view+json": {
       "model_id": "382ee267cfd148dfa3c035bf78ce6e1d",
       "version_major": 2,
       "version_minor": 0
      },
      "text/plain": [
       "VBox()"
      ]
     },
     "metadata": {},
     "output_type": "display_data"
    },
    {
     "data": {
      "application/vnd.jupyter.widget-view+json": {
       "model_id": "",
       "version_major": 2,
       "version_minor": 0
      },
      "text/plain": [
       "FloatProgress(value=0.0, bar_style='info', description='Progress:', layout=Layout(height='25px', width='50%'),…"
      ]
     },
     "metadata": {},
     "output_type": "display_data"
    },
    {
     "name": "stdout",
     "output_type": "stream",
     "text": [
      "+---------+----+---------+-----+-----+\n",
      "|    token|year|frequency|pages|books|\n",
      "+---------+----+---------+-----+-----+\n",
      "|inGermany|1927|        2|    2|    2|\n",
      "|inGermany|1929|        1|    1|    1|\n",
      "|inGermany|1930|        1|    1|    1|\n",
      "|inGermany|1933|        1|    1|    1|\n",
      "|inGermany|1934|        1|    1|    1|\n",
      "|inGermany|1935|        1|    1|    1|\n",
      "|inGermany|1938|        5|    5|    5|\n",
      "|inGermany|1939|        1|    1|    1|\n",
      "|inGermany|1940|        1|    1|    1|\n",
      "|inGermany|1942|        2|    2|    2|\n",
      "|inGermany|1944|        2|    2|    2|\n",
      "|inGermany|1946|        2|    2|    2|\n",
      "|inGermany|1947|        3|    3|    2|\n",
      "|inGermany|1948|        1|    1|    1|\n",
      "|inGermany|1949|        1|    1|    1|\n",
      "|inGermany|1952|        1|    1|    1|\n",
      "|inGermany|1956|        1|    1|    1|\n",
      "|inGermany|1957|        2|    2|    2|\n",
      "|inGermany|1959|        1|    1|    1|\n",
      "|inGermany|1960|        3|    3|    3|\n",
      "+---------+----+---------+-----+-----+\n",
      "only showing top 20 rows"
     ]
    }
   ],
   "source": [
    "# let's see how the dataset looks like\n",
    "df.show()"
   ]
  },
  {
   "cell_type": "markdown",
   "id": "af4bfe9c",
   "metadata": {},
   "source": [
    "Whoo!! Pretty short in terms of features...."
   ]
  },
  {
   "cell_type": "markdown",
   "id": "f1c33150",
   "metadata": {},
   "source": [
    "#### 4.a Describe the dataset (examples include size, shape, schema) in pyspark"
   ]
  },
  {
   "cell_type": "markdown",
   "id": "3ab49fdf",
   "metadata": {},
   "source": [
    "Let's see the number of samples we have in the dataset."
   ]
  },
  {
   "cell_type": "code",
   "execution_count": 4,
   "id": "b4e40a1e",
   "metadata": {
    "scrolled": true
   },
   "outputs": [
    {
     "data": {
      "application/vnd.jupyter.widget-view+json": {
       "model_id": "aa10821d3c5d43f5981a1aca555a6dab",
       "version_major": 2,
       "version_minor": 0
      },
      "text/plain": [
       "VBox()"
      ]
     },
     "metadata": {},
     "output_type": "display_data"
    },
    {
     "data": {
      "application/vnd.jupyter.widget-view+json": {
       "model_id": "",
       "version_major": 2,
       "version_minor": 0
      },
      "text/plain": [
       "FloatProgress(value=0.0, bar_style='info', description='Progress:', layout=Layout(height='25px', width='50%'),…"
      ]
     },
     "metadata": {},
     "output_type": "display_data"
    },
    {
     "name": "stdout",
     "output_type": "stream",
     "text": [
      "261823225"
     ]
    }
   ],
   "source": [
    "# checking the number of rows we have\n",
    "df.count()"
   ]
  },
  {
   "cell_type": "markdown",
   "id": "ac8e8ea0",
   "metadata": {},
   "source": [
    "WooooW!! quite big, 261 MILLION."
   ]
  },
  {
   "cell_type": "code",
   "execution_count": 30,
   "id": "0f580a5b",
   "metadata": {},
   "outputs": [
    {
     "data": {
      "application/vnd.jupyter.widget-view+json": {
       "model_id": "a8a5500b5c674727acfd03263455421f",
       "version_major": 2,
       "version_minor": 0
      },
      "text/plain": [
       "VBox()"
      ]
     },
     "metadata": {},
     "output_type": "display_data"
    },
    {
     "data": {
      "application/vnd.jupyter.widget-view+json": {
       "model_id": "",
       "version_major": 2,
       "version_minor": 0
      },
      "text/plain": [
       "FloatProgress(value=0.0, bar_style='info', description='Progress:', layout=Layout(height='25px', width='50%'),…"
      ]
     },
     "metadata": {},
     "output_type": "display_data"
    },
    {
     "name": "stdout",
     "output_type": "stream",
     "text": [
      "DataFrame Columns count : 5"
     ]
    }
   ],
   "source": [
    "# Get columns count\n",
    "cols = len(df.columns)\n",
    "print(f\"DataFrame Columns count : {cols}\")"
   ]
  },
  {
   "cell_type": "code",
   "execution_count": 15,
   "id": "ffbec572",
   "metadata": {},
   "outputs": [
    {
     "data": {
      "application/vnd.jupyter.widget-view+json": {
       "model_id": "dac7395b7ec34c8aa37579cf67a7c6a1",
       "version_major": 2,
       "version_minor": 0
      },
      "text/plain": [
       "VBox()"
      ]
     },
     "metadata": {},
     "output_type": "display_data"
    },
    {
     "data": {
      "application/vnd.jupyter.widget-view+json": {
       "model_id": "",
       "version_major": 2,
       "version_minor": 0
      },
      "text/plain": [
       "FloatProgress(value=0.0, bar_style='info', description='Progress:', layout=Layout(height='25px', width='50%'),…"
      ]
     },
     "metadata": {},
     "output_type": "display_data"
    },
    {
     "name": "stdout",
     "output_type": "stream",
     "text": [
      "root\n",
      " |-- token: string (nullable = true)\n",
      " |-- year: string (nullable = true)\n",
      " |-- frequency: string (nullable = true)\n",
      " |-- pages: string (nullable = true)\n",
      " |-- books: string (nullable = true)"
     ]
    }
   ],
   "source": [
    "# peeking into the columns of the df\n",
    "df.printSchema()"
   ]
  },
  {
   "cell_type": "markdown",
   "id": "7b8627b1",
   "metadata": {},
   "source": [
    "From above we can see that there are 5 columns in the given dataset."
   ]
  },
  {
   "cell_type": "markdown",
   "id": "98a5fac2",
   "metadata": {},
   "source": [
    "All the columns in the dataset are of string/object dtype. But it can be clearly seen that year, frequency, pages and books are in numbers and basically should be in int dtype."
   ]
  },
  {
   "cell_type": "code",
   "execution_count": 61,
   "id": "31d3b5dd",
   "metadata": {},
   "outputs": [
    {
     "data": {
      "application/vnd.jupyter.widget-view+json": {
       "model_id": "ce3336320ab34c11a5c08fac924ab92e",
       "version_major": 2,
       "version_minor": 0
      },
      "text/plain": [
       "VBox()"
      ]
     },
     "metadata": {},
     "output_type": "display_data"
    },
    {
     "data": {
      "application/vnd.jupyter.widget-view+json": {
       "model_id": "",
       "version_major": 2,
       "version_minor": 0
      },
      "text/plain": [
       "FloatProgress(value=0.0, bar_style='info', description='Progress:', layout=Layout(height='25px', width='50%'),…"
      ]
     },
     "metadata": {},
     "output_type": "display_data"
    }
   ],
   "source": [
    "# changing dtypes of 4 columns\n",
    "df = df.withColumn(\"year\",df.year.cast('int'))\n",
    "df = df.withColumn(\"frequency\",df.frequency.cast('int'))\n",
    "df = df.withColumn(\"pages\",df.pages.cast('int'))\n",
    "df = df.withColumn(\"books\",df.books.cast('int'))"
   ]
  },
  {
   "cell_type": "code",
   "execution_count": 63,
   "id": "cc53938d",
   "metadata": {},
   "outputs": [
    {
     "data": {
      "application/vnd.jupyter.widget-view+json": {
       "model_id": "90fb313a12a645e3acf6058c873938c6",
       "version_major": 2,
       "version_minor": 0
      },
      "text/plain": [
       "VBox()"
      ]
     },
     "metadata": {},
     "output_type": "display_data"
    },
    {
     "data": {
      "application/vnd.jupyter.widget-view+json": {
       "model_id": "",
       "version_major": 2,
       "version_minor": 0
      },
      "text/plain": [
       "FloatProgress(value=0.0, bar_style='info', description='Progress:', layout=Layout(height='25px', width='50%'),…"
      ]
     },
     "metadata": {},
     "output_type": "display_data"
    },
    {
     "name": "stdout",
     "output_type": "stream",
     "text": [
      "root\n",
      " |-- token: string (nullable = true)\n",
      " |-- year: integer (nullable = true)\n",
      " |-- frequency: integer (nullable = true)\n",
      " |-- pages: integer (nullable = true)\n",
      " |-- books: integer (nullable = true)"
     ]
    }
   ],
   "source": [
    "# sanity check\n",
    "df.printSchema()"
   ]
  },
  {
   "cell_type": "markdown",
   "id": "b9f60e5d",
   "metadata": {},
   "source": [
    "Let's see if we have any NULL or NaN values in the dataframe..."
   ]
  },
  {
   "cell_type": "code",
   "execution_count": 65,
   "id": "1147cf12",
   "metadata": {},
   "outputs": [
    {
     "data": {
      "application/vnd.jupyter.widget-view+json": {
       "model_id": "3de17bd741114b0aae7eca7f7e9de8b7",
       "version_major": 2,
       "version_minor": 0
      },
      "text/plain": [
       "VBox()"
      ]
     },
     "metadata": {},
     "output_type": "display_data"
    },
    {
     "data": {
      "application/vnd.jupyter.widget-view+json": {
       "model_id": "",
       "version_major": 2,
       "version_minor": 0
      },
      "text/plain": [
       "FloatProgress(value=0.0, bar_style='info', description='Progress:', layout=Layout(height='25px', width='50%'),…"
      ]
     },
     "metadata": {},
     "output_type": "display_data"
    },
    {
     "name": "stdout",
     "output_type": "stream",
     "text": [
      "+-----+----+---------+-----+-----+\n",
      "|token|year|frequency|pages|books|\n",
      "+-----+----+---------+-----+-----+\n",
      "| 1196| 432|      432|  432|  432|\n",
      "+-----+----+---------+-----+-----+"
     ]
    }
   ],
   "source": [
    "# Find Count of Null, None, NaN of All DataFrame Columns\n",
    "# takes a lot of time to run\n",
    "from pyspark.sql.functions import col,isnan, when, count\n",
    "df.select([count(when(isnan(c) | col(c).isNull(), c)).alias(c) for c in df.columns]).show()"
   ]
  },
  {
   "cell_type": "markdown",
   "id": "92b20556",
   "metadata": {},
   "source": [
    "Looks like we have null and nan values in all the columns and interestingly we have same number of null and nan values in all the columns except `token` column."
   ]
  },
  {
   "cell_type": "markdown",
   "id": "e6d1d2bb",
   "metadata": {},
   "source": [
    "It feels like `year`, `frequency`, `pages` and `books` have nan and null values in the same rows, BUT these things need to be checked. "
   ]
  },
  {
   "cell_type": "markdown",
   "id": "3eccac2a",
   "metadata": {},
   "source": [
    "---"
   ]
  },
  {
   "cell_type": "markdown",
   "id": "34fb6456",
   "metadata": {},
   "source": [
    "#### 4.b Create a new DataFrame from a query using Spark SQL, filtering to include only the rows where the token is \"data\" and describe the new dataset"
   ]
  },
  {
   "cell_type": "code",
   "execution_count": 68,
   "id": "e7e45987",
   "metadata": {},
   "outputs": [
    {
     "data": {
      "application/vnd.jupyter.widget-view+json": {
       "model_id": "1e3f87e612074983817437feb214c033",
       "version_major": 2,
       "version_minor": 0
      },
      "text/plain": [
       "VBox()"
      ]
     },
     "metadata": {},
     "output_type": "display_data"
    },
    {
     "data": {
      "application/vnd.jupyter.widget-view+json": {
       "model_id": "",
       "version_major": 2,
       "version_minor": 0
      },
      "text/plain": [
       "FloatProgress(value=0.0, bar_style='info', description='Progress:', layout=Layout(height='25px', width='50%'),…"
      ]
     },
     "metadata": {},
     "output_type": "display_data"
    }
   ],
   "source": [
    "df.createOrReplaceTempView(\"google_books\")"
   ]
  },
  {
   "cell_type": "code",
   "execution_count": 69,
   "id": "c83f4604",
   "metadata": {},
   "outputs": [
    {
     "data": {
      "application/vnd.jupyter.widget-view+json": {
       "model_id": "0e1eabe8407542068750f29ce31bde92",
       "version_major": 2,
       "version_minor": 0
      },
      "text/plain": [
       "VBox()"
      ]
     },
     "metadata": {},
     "output_type": "display_data"
    },
    {
     "data": {
      "application/vnd.jupyter.widget-view+json": {
       "model_id": "",
       "version_major": 2,
       "version_minor": 0
      },
      "text/plain": [
       "FloatProgress(value=0.0, bar_style='info', description='Progress:', layout=Layout(height='25px', width='50%'),…"
      ]
     },
     "metadata": {},
     "output_type": "display_data"
    },
    {
     "name": "stdout",
     "output_type": "stream",
     "text": [
      "DataFrame[token: string, year: int, frequency: int, pages: int, books: int]"
     ]
    }
   ],
   "source": [
    "# Equivalently my use a SQL query and spark.sql to do the same\n",
    "df2 =spark.sql('SELECT * FROM google_books WHERE token= \"data\"')\n",
    "df2"
   ]
  },
  {
   "cell_type": "code",
   "execution_count": 70,
   "id": "98672de1",
   "metadata": {},
   "outputs": [
    {
     "data": {
      "application/vnd.jupyter.widget-view+json": {
       "model_id": "b517067aecb84c478ed662ba3e814ed7",
       "version_major": 2,
       "version_minor": 0
      },
      "text/plain": [
       "VBox()"
      ]
     },
     "metadata": {},
     "output_type": "display_data"
    },
    {
     "data": {
      "application/vnd.jupyter.widget-view+json": {
       "model_id": "",
       "version_major": 2,
       "version_minor": 0
      },
      "text/plain": [
       "FloatProgress(value=0.0, bar_style='info', description='Progress:', layout=Layout(height='25px', width='50%'),…"
      ]
     },
     "metadata": {},
     "output_type": "display_data"
    },
    {
     "name": "stdout",
     "output_type": "stream",
     "text": [
      "316"
     ]
    }
   ],
   "source": [
    "# let's see the number of rows now\n",
    "df2.count()"
   ]
  },
  {
   "cell_type": "markdown",
   "id": "9b37e3b1",
   "metadata": {},
   "source": [
    "So we have just 316 rows which have tokens data."
   ]
  },
  {
   "cell_type": "markdown",
   "id": "9edefecc",
   "metadata": {},
   "source": [
    "Let's have a peek into it.."
   ]
  },
  {
   "cell_type": "code",
   "execution_count": 71,
   "id": "ae17a7fe",
   "metadata": {},
   "outputs": [
    {
     "data": {
      "application/vnd.jupyter.widget-view+json": {
       "model_id": "9d6825bcb86f4c4c8a10f94c3a1c764c",
       "version_major": 2,
       "version_minor": 0
      },
      "text/plain": [
       "VBox()"
      ]
     },
     "metadata": {},
     "output_type": "display_data"
    },
    {
     "data": {
      "application/vnd.jupyter.widget-view+json": {
       "model_id": "",
       "version_major": 2,
       "version_minor": 0
      },
      "text/plain": [
       "FloatProgress(value=0.0, bar_style='info', description='Progress:', layout=Layout(height='25px', width='50%'),…"
      ]
     },
     "metadata": {},
     "output_type": "display_data"
    },
    {
     "name": "stdout",
     "output_type": "stream",
     "text": [
      "+-----+----+---------+-----+-----+\n",
      "|token|year|frequency|pages|books|\n",
      "+-----+----+---------+-----+-----+\n",
      "| data|1584|       16|   14|    1|\n",
      "| data|1614|        3|    2|    1|\n",
      "| data|1627|        1|    1|    1|\n",
      "| data|1631|       22|   18|    1|\n",
      "| data|1637|        1|    1|    1|\n",
      "| data|1638|        2|    2|    1|\n",
      "| data|1640|        1|    1|    1|\n",
      "| data|1642|        1|    1|    1|\n",
      "| data|1644|        4|    4|    1|\n",
      "| data|1647|        1|    1|    1|\n",
      "| data|1651|        1|    1|    1|\n",
      "| data|1674|        1|    1|    1|\n",
      "| data|1690|        1|    1|    1|\n",
      "| data|1693|        1|    1|    1|\n",
      "| data|1697|        1|    1|    1|\n",
      "| data|1699|        1|    1|    1|\n",
      "| data|1700|        1|    1|    1|\n",
      "| data|1701|       11|   11|    2|\n",
      "| data|1702|        1|    1|    1|\n",
      "| data|1703|        1|    1|    1|\n",
      "+-----+----+---------+-----+-----+\n",
      "only showing top 20 rows"
     ]
    }
   ],
   "source": [
    "# peeking into the filtered data\n",
    "df2.show()"
   ]
  },
  {
   "cell_type": "markdown",
   "id": "d4e263c5",
   "metadata": {},
   "source": [
    "---"
   ]
  },
  {
   "cell_type": "markdown",
   "id": "ecf034d9",
   "metadata": {},
   "source": [
    "Let's see if we have any null or nan values in this dataset."
   ]
  },
  {
   "cell_type": "code",
   "execution_count": 72,
   "id": "902f46bd",
   "metadata": {},
   "outputs": [
    {
     "data": {
      "application/vnd.jupyter.widget-view+json": {
       "model_id": "49249bd4a30a4e029d58297bfe833999",
       "version_major": 2,
       "version_minor": 0
      },
      "text/plain": [
       "VBox()"
      ]
     },
     "metadata": {},
     "output_type": "display_data"
    },
    {
     "data": {
      "application/vnd.jupyter.widget-view+json": {
       "model_id": "",
       "version_major": 2,
       "version_minor": 0
      },
      "text/plain": [
       "FloatProgress(value=0.0, bar_style='info', description='Progress:', layout=Layout(height='25px', width='50%'),…"
      ]
     },
     "metadata": {},
     "output_type": "display_data"
    },
    {
     "name": "stdout",
     "output_type": "stream",
     "text": [
      "+-----+----+---------+-----+-----+\n",
      "|token|year|frequency|pages|books|\n",
      "+-----+----+---------+-----+-----+\n",
      "|    0|   0|        0|    0|    0|\n",
      "+-----+----+---------+-----+-----+"
     ]
    }
   ],
   "source": [
    "# checking null values\n",
    "df2.select([count(when(isnan(c) | col(c).isNull(), c)).alias(c) for c in df.columns]).show()"
   ]
  },
  {
   "cell_type": "markdown",
   "id": "f177efee",
   "metadata": {},
   "source": [
    "From above we can see that we have no null or nan values in `df2` (token = \"data\")"
   ]
  },
  {
   "cell_type": "code",
   "execution_count": 74,
   "id": "da0f58b3",
   "metadata": {},
   "outputs": [
    {
     "data": {
      "application/vnd.jupyter.widget-view+json": {
       "model_id": "2c0b5dff1d5e493f991562be9a6b4a05",
       "version_major": 2,
       "version_minor": 0
      },
      "text/plain": [
       "VBox()"
      ]
     },
     "metadata": {},
     "output_type": "display_data"
    },
    {
     "data": {
      "application/vnd.jupyter.widget-view+json": {
       "model_id": "",
       "version_major": 2,
       "version_minor": 0
      },
      "text/plain": [
       "FloatProgress(value=0.0, bar_style='info', description='Progress:', layout=Layout(height='25px', width='50%'),…"
      ]
     },
     "metadata": {},
     "output_type": "display_data"
    },
    {
     "name": "stdout",
     "output_type": "stream",
     "text": [
      "root\n",
      " |-- token: string (nullable = true)\n",
      " |-- year: integer (nullable = true)\n",
      " |-- frequency: integer (nullable = true)\n",
      " |-- pages: integer (nullable = true)\n",
      " |-- books: integer (nullable = true)"
     ]
    }
   ],
   "source": [
    "# checking schema\n",
    "df2.printSchema()"
   ]
  },
  {
   "cell_type": "markdown",
   "id": "7b871be2",
   "metadata": {},
   "source": [
    "---"
   ]
  },
  {
   "cell_type": "markdown",
   "id": "77cc26cc",
   "metadata": {},
   "source": [
    "#### 4.c Write the filtered data back to a directory in the HDFS from Spark using df.write.csv(). Be sure to pass the header=True parameter and examine the contents of what you've written."
   ]
  },
  {
   "cell_type": "code",
   "execution_count": 83,
   "id": "0302cf69",
   "metadata": {},
   "outputs": [
    {
     "data": {
      "application/vnd.jupyter.widget-view+json": {
       "model_id": "846aa607d0ee403a9a676d6900c8effe",
       "version_major": 2,
       "version_minor": 0
      },
      "text/plain": [
       "VBox()"
      ]
     },
     "metadata": {},
     "output_type": "display_data"
    },
    {
     "data": {
      "application/vnd.jupyter.widget-view+json": {
       "model_id": "",
       "version_major": 2,
       "version_minor": 0
      },
      "text/plain": [
       "FloatProgress(value=0.0, bar_style='info', description='Progress:', layout=Layout(height='25px', width='50%'),…"
      ]
     },
     "metadata": {},
     "output_type": "display_data"
    }
   ],
   "source": [
    "df2.write.csv(\"/user/hadoop/eng_1M_1gram/datatoken.csv\", header=True)"
   ]
  },
  {
   "cell_type": "code",
   "execution_count": 79,
   "id": "01be161b",
   "metadata": {},
   "outputs": [
    {
     "data": {
      "application/vnd.jupyter.widget-view+json": {
       "model_id": "5518509f5e804abb9b15e203e6bb7a38",
       "version_major": 2,
       "version_minor": 0
      },
      "text/plain": [
       "VBox()"
      ]
     },
     "metadata": {},
     "output_type": "display_data"
    },
    {
     "data": {
      "application/vnd.jupyter.widget-view+json": {
       "model_id": "",
       "version_major": 2,
       "version_minor": 0
      },
      "text/plain": [
       "FloatProgress(value=0.0, bar_style='info', description='Progress:', layout=Layout(height='25px', width='50%'),…"
      ]
     },
     "metadata": {},
     "output_type": "display_data"
    }
   ],
   "source": [
    "# Read in some data locally\n",
    "df3 = spark.read.csv(\"/user/hadoop/eng_1M_1gram2/datatoken.csv\", header=True)"
   ]
  },
  {
   "cell_type": "code",
   "execution_count": 80,
   "id": "b5c5b0fb",
   "metadata": {},
   "outputs": [
    {
     "data": {
      "application/vnd.jupyter.widget-view+json": {
       "model_id": "15878f09803a44399ffb6827f86f3dbe",
       "version_major": 2,
       "version_minor": 0
      },
      "text/plain": [
       "VBox()"
      ]
     },
     "metadata": {},
     "output_type": "display_data"
    },
    {
     "data": {
      "application/vnd.jupyter.widget-view+json": {
       "model_id": "",
       "version_major": 2,
       "version_minor": 0
      },
      "text/plain": [
       "FloatProgress(value=0.0, bar_style='info', description='Progress:', layout=Layout(height='25px', width='50%'),…"
      ]
     },
     "metadata": {},
     "output_type": "display_data"
    },
    {
     "name": "stdout",
     "output_type": "stream",
     "text": [
      "+-----+----+---------+-----+-----+\n",
      "|token|year|frequency|pages|books|\n",
      "+-----+----+---------+-----+-----+\n",
      "| data|1584|       16|   14|    1|\n",
      "| data|1614|        3|    2|    1|\n",
      "| data|1627|        1|    1|    1|\n",
      "| data|1631|       22|   18|    1|\n",
      "| data|1637|        1|    1|    1|\n",
      "| data|1638|        2|    2|    1|\n",
      "| data|1640|        1|    1|    1|\n",
      "| data|1642|        1|    1|    1|\n",
      "| data|1644|        4|    4|    1|\n",
      "| data|1647|        1|    1|    1|\n",
      "| data|1651|        1|    1|    1|\n",
      "| data|1674|        1|    1|    1|\n",
      "| data|1690|        1|    1|    1|\n",
      "| data|1693|        1|    1|    1|\n",
      "| data|1697|        1|    1|    1|\n",
      "| data|1699|        1|    1|    1|\n",
      "| data|1700|        1|    1|    1|\n",
      "| data|1701|       11|   11|    2|\n",
      "| data|1702|        1|    1|    1|\n",
      "| data|1703|        1|    1|    1|\n",
      "+-----+----+---------+-----+-----+\n",
      "only showing top 20 rows"
     ]
    }
   ],
   "source": [
    "df3.show()"
   ]
  },
  {
   "cell_type": "code",
   "execution_count": 81,
   "id": "cb961765",
   "metadata": {},
   "outputs": [
    {
     "data": {
      "application/vnd.jupyter.widget-view+json": {
       "model_id": "185f38e33ef5452e89c9bc8e51f7cbb7",
       "version_major": 2,
       "version_minor": 0
      },
      "text/plain": [
       "VBox()"
      ]
     },
     "metadata": {},
     "output_type": "display_data"
    },
    {
     "data": {
      "application/vnd.jupyter.widget-view+json": {
       "model_id": "",
       "version_major": 2,
       "version_minor": 0
      },
      "text/plain": [
       "FloatProgress(value=0.0, bar_style='info', description='Progress:', layout=Layout(height='25px', width='50%'),…"
      ]
     },
     "metadata": {},
     "output_type": "display_data"
    },
    {
     "name": "stdout",
     "output_type": "stream",
     "text": [
      "316"
     ]
    }
   ],
   "source": [
    "# check\n",
    "df3.count()"
   ]
  },
  {
   "cell_type": "markdown",
   "id": "1b3068af",
   "metadata": {},
   "source": [
    "Bingo! This is what we wanted>>"
   ]
  },
  {
   "cell_type": "markdown",
   "id": "2ea22e25",
   "metadata": {},
   "source": [
    "---"
   ]
  },
  {
   "cell_type": "markdown",
   "id": "16bcf50f",
   "metadata": {},
   "source": [
    "### Thank You!!"
   ]
  }
 ],
 "metadata": {
  "kernelspec": {
   "display_name": "PySpark",
   "language": "",
   "name": "pysparkkernel"
  },
  "language_info": {
   "codemirror_mode": {
    "name": "python",
    "version": 2
   },
   "mimetype": "text/x-python",
   "name": "pyspark",
   "pygments_lexer": "python2"
  }
 },
 "nbformat": 4,
 "nbformat_minor": 5
}
